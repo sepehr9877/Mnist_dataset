{
 "cells": [
  {
   "cell_type": "code",
   "execution_count": null,
   "id": "daacbdd8",
   "metadata": {},
   "outputs": [],
   "source": [
    "import os\n",
    "# Import mnist data stored in the following path: current directory -> mnist.npz\n",
    "from tensorflow.keras.datasets import mnist\n",
    "import matplotlib.pyplot as plt\n",
    "import keras\n",
    "from keras.models import Sequential\n",
    "from keras.layers import Dense\n",
    "from keras.optimizers import Adam\n",
    "from keras.utils.np_utils import to_categorical\n",
    "import random\n",
    "import requests\n",
    "from PIL import Image\n",
    "import cv2\n",
    "import numpy as np\n",
    "current_dir="
   ]
  }
 ],
 "metadata": {
  "kernelspec": {
   "display_name": "Python 3",
   "language": "python",
   "name": "python3"
  },
  "language_info": {
   "codemirror_mode": {
    "name": "ipython",
    "version": 3
   },
   "file_extension": ".py",
   "mimetype": "text/x-python",
   "name": "python",
   "nbconvert_exporter": "python",
   "pygments_lexer": "ipython3",
   "version": "3.8.1"
  }
 },
 "nbformat": 4,
 "nbformat_minor": 5
}
